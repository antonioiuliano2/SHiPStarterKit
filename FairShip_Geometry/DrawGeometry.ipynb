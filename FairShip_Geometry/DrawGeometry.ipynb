{
 "cells": [
  {
   "cell_type": "markdown",
   "metadata": {
    "slideshow": {
     "slide_type": "slide"
    }
   },
   "source": [
    "# Importing a ROOT geometry and draw a specific volume\n",
    "This is very simple, but it really saved me a lot of time. In fact we can draw a volume from our geometry without having to display the full SHiP geometry. Even if it is sometime required to see how your detector is positioned in the SHiP apparatus, what we often want is just to check our modifications to geometry. We can import the ROOT geometry, getting our detector, and drawing it."
   ]
  },
  {
   "cell_type": "markdown",
   "metadata": {
    "slideshow": {
     "slide_type": "slide"
    }
   },
   "source": [
    "## Importing the geometry and getting the volume\n",
    "First we need to import our geometry. Luckily, gGeoManager provides us with a command to do it automatically:"
   ]
  },
  {
   "cell_type": "code",
   "execution_count": null,
   "metadata": {
    "slideshow": {
     "slide_type": "subslide"
    }
   },
   "outputs": [],
   "source": [
    "import ROOT as r\n",
    "\n",
    "myGeo = r.TGeoManager.Import(\"geofile_full.conical.Genie-TGeant4.root\")"
   ]
  },
  {
   "cell_type": "markdown",
   "metadata": {
    "slideshow": {
     "slide_type": "slide"
    }
   },
   "source": [
    "Then, we can get the volume we want to draw. Here we are not going to draw the whole nutaudet geometry, so the SWAN kernel will not be overloaded. We will limit ourselves to draw the magnetized section"
   ]
  },
  {
   "cell_type": "code",
   "execution_count": null,
   "metadata": {
    "slideshow": {
     "slide_type": "subslide"
    }
   },
   "outputs": [],
   "source": [
    "nudetmagnet = myGeo.GetVolume(\"NudetMagnet\")"
   ]
  },
  {
   "cell_type": "markdown",
   "metadata": {
    "slideshow": {
     "slide_type": "slide"
    }
   },
   "source": [
    "## Drawing the volume\n",
    "We can set some additional options before launching the drawing. For example, we can set the visualization level, that will tell us how many daughters we will see. Of course, drawing more daughters requires more time, but it give use a more complex geometry. We can also choose to make a volume transparent, in order to see what is behind it."
   ]
  },
  {
   "cell_type": "code",
   "execution_count": null,
   "metadata": {
    "slideshow": {
     "slide_type": "subslide"
    }
   },
   "outputs": [],
   "source": [
    "myGeo.SetVisLevel(2)\n",
    "myGeo.GetVolume(\"volcuttop\").SetTransparency(50)"
   ]
  },
  {
   "cell_type": "code",
   "execution_count": null,
   "metadata": {
    "scrolled": true,
    "slideshow": {
     "slide_type": "slide"
    }
   },
   "outputs": [],
   "source": [
    "nudetmagnet.Draw()"
   ]
  }
 ],
 "metadata": {
  "celltoolbar": "Slideshow",
  "kernelspec": {
   "display_name": "Python 2",
   "language": "python",
   "name": "python2"
  },
  "language_info": {
   "codemirror_mode": {
    "name": "ipython",
    "version": 2
   },
   "file_extension": ".py",
   "mimetype": "text/x-python",
   "name": "python",
   "nbconvert_exporter": "python",
   "pygments_lexer": "ipython2",
   "version": "2.7.16"
  }
 },
 "nbformat": 4,
 "nbformat_minor": 2
}
