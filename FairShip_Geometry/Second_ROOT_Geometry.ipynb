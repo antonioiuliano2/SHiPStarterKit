{
 "cells": [
  {
   "cell_type": "markdown",
   "metadata": {},
   "source": [
    "# A standalone example of ROOT geometry\n",
    "We will see the 'simplest geometry' example, from ROOT Users Guide. This, altough very basilar, can tell us how the general structure works. \n",
    "## Creating the TGeoManager object\n",
    "Every geometry must contain a TGeoManager instance: this will allow us to navigate in our geometry, and to access all the information we need. We can then access it directly, or by the `gGeoManager` global variable"
   ]
  },
  {
   "cell_type": "code",
   "execution_count": null,
   "metadata": {},
   "outputs": [],
   "source": [
    "TGeoManager *mygeometry = new TGeoManager(\"world\", \"the simplest geometry\");"
   ]
  },
  {
   "cell_type": "markdown",
   "metadata": {},
   "source": [
    "## Creating our first volume\n",
    "The basic brick of the geometry is the `volume`.Each volume represents an un-positioned pieces of the geometry puzzle. In order to be defined, it needs a `medium`, describing the material of our volume."
   ]
  },
  {
   "cell_type": "code",
   "execution_count": null,
   "metadata": {},
   "outputs": [],
   "source": [
    "TGeoMaterial *mat = new TGeoMaterial(\"Vacuum\",0,0,0);\n",
    "TGeoMedium   *med = new TGeoMedium(\"Vacuum\",1,mat);"
   ]
  },
  {
   "cell_type": "markdown",
   "metadata": {},
   "source": [
    "We can now create our volume. We will use the most basic shape: the `Box`, a paralleliped with requres as input the three half-dimensions of the sizes:"
   ]
  },
  {
   "cell_type": "code",
   "execution_count": null,
   "metadata": {},
   "outputs": [],
   "source": [
    "float cm = 1.;\n",
    "TGeoBBox *mybox = new TGeoBBox(\"mybox\",10.*cm,10.*cm,10.*cm);\n",
    "TGeoVolume *top = new TGeoVolume(\"Top\",mybox,med);"
   ]
  },
  {
   "cell_type": "markdown",
   "metadata": {},
   "source": [
    "Note: default ROOT units are in centimeters (altough units are arbitrary for actual geometry construction). FairShip follows that convention."
   ]
  },
  {
   "cell_type": "markdown",
   "metadata": {},
   "source": [
    "## Creating a composite shape\n",
    "As an example of composite shape, we can build a box with a spherical cavity. We need then only two primitive shapes: a TGeoBBox for the actual box and a TGeoSphere for the cavity."
   ]
  },
  {
   "cell_type": "code",
   "execution_count": null,
   "metadata": {},
   "outputs": [],
   "source": [
    "TGeoBBox * externalbox = new TGeoBBox(\"EB\",2*cm,2*cm,2*cm);\n",
    "TGeoSphere *internalsphere = new TGeoSphere(\"IS\",0,1,0,180,0,360);"
   ]
  },
  {
   "cell_type": "markdown",
   "metadata": {},
   "source": [
    "Applying the relative transformation, we can put the cavity wherever we want in our box. \n",
    "Please notice that the transformation must be named and registered, otherwise the boolean operation cannot recognize it, when we build the composite shape"
   ]
  },
  {
   "cell_type": "code",
   "execution_count": null,
   "metadata": {},
   "outputs": [],
   "source": [
    "TGeoTranslation *mytrans1 = new TGeoTranslation(\"mytrans1\",-2 *cm, 0, 1 *cm);\n",
    "mytrans1->SetName(\"mytrans1\");\n",
    "mytrans1->RegisterYourself();"
   ]
  },
  {
   "cell_type": "markdown",
   "metadata": {},
   "source": [
    "Having defined the primitives and their relative transformation, we are ready to build the composite shape. Then we associate the shape to a new volume."
   ]
  },
  {
   "cell_type": "code",
   "execution_count": null,
   "metadata": {},
   "outputs": [],
   "source": [
    "TGeoCompositeShape * hollowbox = new TGeoCompositeShape(\"hollowbox\",\"EB-(IS:mytrans1)\");\n",
    "TGeoVolume *volcomposite = new TGeoVolume(\"volcomposite\",hollowbox,med);"
   ]
  },
  {
   "cell_type": "markdown",
   "metadata": {},
   "source": [
    "## Positioning daughter volumes\n",
    "With expection of the `top` volume, TGeoVolume instances are positioned inside another one, according to a hierarchy based on `containment`. The method to do so is called AddNode(), called from the mother volume and accepting the daughter volume as argument."
   ]
  },
  {
   "cell_type": "code",
   "execution_count": null,
   "metadata": {},
   "outputs": [],
   "source": [
    "top->AddNode(volcomposite,1,new TGeoTranslation(0,0,-5*cm));\n",
    "top->AddNode(volcomposite,2,new TGeoTranslation(0,0,5*cm));"
   ]
  },
  {
   "cell_type": "code",
   "execution_count": null,
   "metadata": {},
   "outputs": [],
   "source": [
    "volcomposite->SetLineColor(kRed);"
   ]
  },
  {
   "cell_type": "code",
   "execution_count": null,
   "metadata": {},
   "outputs": [],
   "source": [
    "gGeoManager->SetTopVolume(top);\n",
    "gGeoManager->CloseGeometry();"
   ]
  },
  {
   "cell_type": "markdown",
   "metadata": {},
   "source": [
    "Ready to have a look at our volume! Luckily, the notebook version of ROOT allows for interactive check of geometry displays, not only canvases! Let's just activate jsroot and draw our volume:"
   ]
  },
  {
   "cell_type": "code",
   "execution_count": null,
   "metadata": {},
   "outputs": [],
   "source": [
    "TCanvas *c = new TCanvas();\n",
    "gGeoManager->GetTopVolume()->Draw();\n",
    "c->Print(\"composite_example.png\");"
   ]
  },
  {
   "cell_type": "code",
   "execution_count": null,
   "metadata": {},
   "outputs": [],
   "source": []
  },
  {
   "cell_type": "code",
   "execution_count": null,
   "metadata": {},
   "outputs": [],
   "source": []
  }
 ],
 "metadata": {
  "kernelspec": {
   "display_name": "ROOT C++",
   "language": "c++",
   "name": "root"
  },
  "language_info": {
   "codemirror_mode": "text/x-c++src",
   "file_extension": ".C",
   "mimetype": " text/x-c++src",
   "name": "c++"
  }
 },
 "nbformat": 4,
 "nbformat_minor": 2
}
